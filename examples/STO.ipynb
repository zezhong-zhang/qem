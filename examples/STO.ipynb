{
 "cells": [
  {
   "cell_type": "code",
   "execution_count": 1,
   "metadata": {},
   "outputs": [
    {
     "name": "stderr",
     "output_type": "stream",
     "text": [
      "INFO:root:Elements: ['A', 'B', 'C'], the order is used for the atom types. Please initiate the correct elements in your system.\n"
     ]
    }
   ],
   "source": [
    "import hyperspy.api as hs\n",
    "import numpy as np\n",
    "from qem.image_fitting import ImageModelFitting\n",
    "import cv2\n",
    "\n",
    "%matplotlib qt\n",
    "\n",
    "# file = '../data/STO/haadf_small.hspy'\n",
    "\n",
    "# file = '/home/zzhang/OneDrive/code/qem/data/SRO-CTO/ADF time step .hspy'\n",
    "# file = '/home/zzhang/OneDrive/data/Nico/SRO-CTO Superlattice/9-45/restore_hdf5/ADF time step .hspy'\n",
    "file = '/home/zzhang/OneDrive/code/qem/examples/superlattice_adf.h5'\n",
    "s = hs.load(file)\n",
    "image = s.data\n",
    "\n",
    "dx = s.axes_manager[1].scale *10 # convert nm to Angstrom\n",
    "# dx = 0.72548828 # Angstrom, calculated from fft\n",
    "\n",
    "image = image[50:-50,1000:-1000]\n",
    "# image = image - 1.43e4\n",
    "image = image - image.min()\n",
    "\n",
    "# rotate the image by 45 degrees\n",
    "from scipy import ndimage\n",
    "\n",
    "# theta = 45\n",
    "# rotated_image = ndimage.rotate(image, theta, reshape=False, mode='constant')\n",
    "\n",
    "# Replace the original image with the rotated one\n",
    "# image = rotated_image[:,1200:2800]\n",
    "\n",
    "# image = image.max() - image\n",
    "model=ImageModelFitting(image, dx=dx,units='A')"
   ]
  },
  {
   "cell_type": "code",
   "execution_count": 6,
   "metadata": {},
   "outputs": [],
   "source": [
    "model.plot() # inspect the image"
   ]
  },
  {
   "cell_type": "code",
   "execution_count": 2,
   "metadata": {},
   "outputs": [
    {
     "name": "stderr",
     "output_type": "stream",
     "text": [
      "INFO:root:Updated peak locations.\n"
     ]
    },
    {
     "data": {
      "text/plain": [
       "array([[  31., 1859.],\n",
       "       [  82., 1860.],\n",
       "       [ 184., 1859.],\n",
       "       ...,\n",
       "       [   0., 1540.],\n",
       "       [   0., 1011.],\n",
       "       [   0.,  941.]])"
      ]
     },
     "execution_count": 2,
     "metadata": {},
     "output_type": "execute_result"
    }
   ],
   "source": [
    "model.find_peaks(min_distance=10,threshold_rel=0.05) # find atomic columns by local maximum"
   ]
  },
  {
   "cell_type": "code",
   "execution_count": 3,
   "metadata": {},
   "outputs": [
    {
     "name": "stderr",
     "output_type": "stream",
     "text": [
      "INFO:root:Reading CIF file: /home/zzhang/OneDrive/code/qem/data/SRO-CTO/CaTiO3.cif. The elements selected are ['Ca', 'Ti'] and the elements in the CIF file are Ca4Ti4O4\n",
      "/home/zzhang/OneDrive/code/qem/qem/gui_classes.py:373: UserWarning: You passed a edgecolor/edgecolors ('black') for an unfilled marker ('x').  Matplotlib is ignoring the edgecolor in favor of the facecolor.  This behavior may change in the future.\n",
      "  plt.scatter(\n",
      "INFO:root:Origin selected: [ 534. 2703.]\n",
      "INFO:root:Vector a selected: [102.   0.]\n",
      "INFO:root:Vector b selected: [ -2. 141.]\n",
      "INFO:root:In pixel: Origin: [ 534. 2703.], Vector a: [102.   0.], Vector b: [ -2. 141.]\n",
      "INFO:root:In space: Origin: [ 29.72053528 150.43933868] A, Vector a: [5.67695618 0.        ] A, Vector b: [-0.11131287  7.84755707] A\n",
      "INFO:root:Perfect a: [96.52161844  0.        ] pixel, Perfect b: [  0.        137.2053431] pixel by rotation of unit cell and scaling with pixel size.\n"
     ]
    },
    {
     "data": {
      "text/plain": [
       "AtomicColumns(lattice=Atoms(symbols='Ca884Ti884', pbc=False, cell=[59.6636962890625, 165.41091918945312, 5.462797], spacegroup_kinds=...), lattice_ref=Atoms(symbols='Ca884Ti884', pbc=False, cell=[59.6636962890625, 165.41091918945312, 5.462797], spacegroup_kinds=...), elements=['Ca', 'Ti'], tol=0, pixel_size=0.05565643310546875, reference={'origin': array([ 534., 2703.]), 'vector_a': array([96.52161844,  0.        ]), 'vector_b': array([  0.       , 137.2053431])})"
      ]
     },
     "execution_count": 3,
     "metadata": {},
     "output_type": "execute_result"
    }
   ],
   "source": [
    "cif_file = '/home/zzhang/OneDrive/code/qem/data/SRO-CTO/CaTiO3.cif' \n",
    "model.map_lattice(cif_file=cif_file,elements=['Ca','Ti'], reciprocal=False,region_index=0) # map the cif unitcell to the image and tile it according the local peak positions"
   ]
  },
  {
   "cell_type": "code",
   "execution_count": 9,
   "metadata": {},
   "outputs": [
    {
     "name": "stderr",
     "output_type": "stream",
     "text": [
      "Refining center of mass: 100%|██████████| 1767/1767 [00:03<00:00, 447.62it/s]\n",
      "Refining center of mass: 100%|██████████| 1767/1767 [00:03<00:00, 475.31it/s]\n"
     ]
    },
    {
     "data": {
      "text/plain": [
       "{'pos_x': array([   7.3358508 ,    8.0086642 ,    9.62672259, ..., 1061.30587363,\n",
       "        1060.21502877, 1059.64559154]),\n",
       " 'pos_y': array([197.78648537, 111.69672723,  20.37252484, ..., 267.34136887,\n",
       "        409.35592372, 548.91042626]),\n",
       " 'height': array([3764.3552, 3931.1277, 3681.5725, ..., 2650.474 , 1654.1777,\n",
       "        3092.3022], dtype=float32),\n",
       " 'sigma': array([12.57716244, 12.57716244]),\n",
       " 'background': 0.0}"
      ]
     },
     "execution_count": 9,
     "metadata": {},
     "output_type": "execute_result"
    }
   ],
   "source": [
    "# model.init_params()\n",
    "model.refine_center_of_mass()"
   ]
  },
  {
   "cell_type": "code",
   "execution_count": 20,
   "metadata": {},
   "outputs": [
    {
     "name": "stderr",
     "output_type": "stream",
     "text": [
      "Fitting cells: 100%|██████████| 1758/1758 [00:05<00:00, 309.93it/s]\n",
      "INFO:root:Convergence rate for pos_x = 0.6080784245302766\n",
      "INFO:root:Convergence rate for pos_y = 0.2544342021652817\n",
      "INFO:root:Convergence rate for height = 0.0\n",
      "INFO:root:Convergence rate for sigma = 0.0\n",
      "INFO:root:Convergence reached\n"
     ]
    },
    {
     "data": {
      "text/plain": [
       "{'pos_x': array([  22.        ,   22.56086206,   22.71074929, ..., 1071.71074929,\n",
       "        1071.71074929, 1071.71074929]),\n",
       " 'pos_y': array([2845.        , 2949.02370992, 2916.        , ...,  375.        ,\n",
       "         513.        ,  654.        ]),\n",
       " 'height': array([2336.2231, 3298.0532, 2296.5454, ..., 1209.9805, 3254.4465,\n",
       "        3261.921 ], dtype=float32),\n",
       " 'sigma': array([12.57716244, 12.57716244])}"
      ]
     },
     "execution_count": 20,
     "metadata": {},
     "output_type": "execute_result"
    }
   ],
   "source": [
    "params = model.init_params()\n",
    "\n",
    "model.fit_voronoi(params)\n"
   ]
  },
  {
   "cell_type": "code",
   "execution_count": 22,
   "metadata": {},
   "outputs": [],
   "source": [
    "model.view_3d() # view the 3D model using ase of Atoms object, with coordinates refined from the image"
   ]
  },
  {
   "cell_type": "code",
   "execution_count": 19,
   "metadata": {},
   "outputs": [
    {
     "name": "stderr",
     "output_type": "stream",
     "text": [
      "INFO:root:Selected 1758 atoms out of 1759 atoms.\n"
     ]
    },
    {
     "data": {
      "text/plain": [
       "array([False,  True,  True, ...,  True,  True,  True])"
      ]
     },
     "execution_count": 19,
     "metadata": {},
     "output_type": "execute_result"
    }
   ],
   "source": [
    "model.select_atoms() # select the region where has atoms"
   ]
  },
  {
   "cell_type": "code",
   "execution_count": 40,
   "metadata": {},
   "outputs": [],
   "source": [
    "model.plot_coordinates(10) # plot the coordinates of the selected region with element labels"
   ]
  },
  {
   "cell_type": "code",
   "execution_count": 28,
   "metadata": {},
   "outputs": [
    {
     "name": "stderr",
     "output_type": "stream",
     "text": [
      "Fitting cells: 100%|██████████| 1758/1758 [00:05<00:00, 304.75it/s]\n",
      "INFO:root:Convergence rate for pos_x = 0.011967227807048175\n",
      "INFO:root:Convergence rate for pos_y = 0.009155284069144898\n",
      "INFO:root:Convergence rate for height = 0.0\n",
      "INFO:root:Convergence rate for sigma = 0.0\n",
      "INFO:root:Convergence reached\n"
     ]
    },
    {
     "data": {
      "text/plain": [
       "{'pos_x': array([  22.        ,   22.56086206,   22.71074929, ..., 1071.71074929,\n",
       "        1071.71074929, 1071.71074929]),\n",
       " 'pos_y': array([2845.        , 2949.02370992, 2916.        , ...,  375.        ,\n",
       "         513.        ,  654.        ]),\n",
       " 'height': array([2336.2231, 3298.0532, 2296.5454, ..., 1209.9805, 3254.4465,\n",
       "        3261.921 ], dtype=float32),\n",
       " 'sigma': array([12.57716244, 12.57716244])}"
      ]
     },
     "execution_count": 28,
     "metadata": {},
     "output_type": "execute_result"
    }
   ],
   "source": [
    "# params = model.init_params(atom_size=0.5)\n",
    "model.fit_voronoi()\n"
   ]
  },
  {
   "cell_type": "code",
   "execution_count": null,
   "metadata": {},
   "outputs": [],
   "source": [
    "import os\n",
    "!export CUDA_VISIBLE_DEVICES=0\n",
    "os.environ['JAX_PLATFORMS'] = 'gpu'\n",
    "model.fit_background = False\n",
    "params = model.init_params(atom_size=0.7)\n",
    "model.fit_random_batch(params, batch_size=4000, maxiter=50, tol=5e-3, plot=False, step_size=0.01,verbose=False,num_epoch=5) # set the maxiter and tol and num_epoch to be larger for better fitting"
   ]
  },
  {
   "cell_type": "code",
   "execution_count": null,
   "metadata": {},
   "outputs": [],
   "source": []
  },
  {
   "cell_type": "code",
   "execution_count": 31,
   "metadata": {},
   "outputs": [
    {
     "name": "stderr",
     "output_type": "stream",
     "text": [
      "INFO:root:The coordinates have converged.\n",
      "INFO:root:Updated region 0 coordinates for crystal analyzer.\n"
     ]
    }
   ],
   "source": [
    "model.update_coordinates()\n",
    "model.update_region_crysal_analyzer()"
   ]
  },
  {
   "cell_type": "code",
   "execution_count": 13,
   "metadata": {},
   "outputs": [],
   "source": [
    "model.plot_fitting() # compare the fitting result with the original image"
   ]
  },
  {
   "cell_type": "code",
   "execution_count": 30,
   "metadata": {},
   "outputs": [],
   "source": [
    "model.plot_scs(per_element=True,s=10) # plot the scattering cross section of the elements in the selected region, show each element separately"
   ]
  },
  {
   "cell_type": "code",
   "execution_count": 14,
   "metadata": {},
   "outputs": [],
   "source": [
    "model.plot_scs_histogram() # plot the histogram of the scattering cross section of the selected region"
   ]
  },
  {
   "cell_type": "code",
   "execution_count": 41,
   "metadata": {},
   "outputs": [
    {
     "name": "stderr",
     "output_type": "stream",
     "text": [
      "Integrating: 100%|██████████| 1758/1758 [00:04<00:00, 388.14it/s]                 \n",
      "                                                                                     \r"
     ]
    },
    {
     "data": {
      "text/plain": [
       "(array([ 8174.29485751, 10783.27550203,  7876.22458842, ...,\n",
       "         2239.57388934,  7408.65695896, 10485.87122523]),\n",
       " <Signal2D, title: , dimensions: (|1072, 2972)>,\n",
       " <Signal2D, title: , dimensions: (|1072, 2972)>)"
      ]
     },
     "execution_count": 41,
     "metadata": {},
     "output_type": "execute_result"
    }
   ],
   "source": [
    "\n",
    "model.voronoi_integration(plot=True) # integrate the scattering cross section of the selected region using voronoi tessellation"
   ]
  },
  {
   "cell_type": "code",
   "execution_count": 43,
   "metadata": {},
   "outputs": [],
   "source": [
    "model.plot_scs_voronoi(per_element=True,s=20) # plot the scattering cross section of the selected region using voronoi tessellation"
   ]
  },
  {
   "cell_type": "code",
   "execution_count": 21,
   "metadata": {},
   "outputs": [],
   "source": [
    "model.region_crysal_analyzer[0].plot_strain()"
   ]
  },
  {
   "cell_type": "code",
   "execution_count": 33,
   "metadata": {},
   "outputs": [],
   "source": [
    "model.region_crysal_analyzer[0].plot_polarization(a_element='Ca', b_element='Ti',cutoff_radius=5.0,exclude_border=True,border_pixel=\n",
    "100,vector_scale=50.0)"
   ]
  },
  {
   "cell_type": "markdown",
   "metadata": {},
   "source": []
  },
  {
   "cell_type": "code",
   "execution_count": 45,
   "metadata": {},
   "outputs": [],
   "source": [
    "model.region_crysal_analyzer[0].plot_displacement(mode='local', cut_off = 5.0)"
   ]
  },
  {
   "cell_type": "code",
   "execution_count": 46,
   "metadata": {},
   "outputs": [],
   "source": [
    "model.region_crysal_analyzer[0].plot_oxygen_tilt(a_type=0, o_type=2, cutoff_radius=5.0)"
   ]
  },
  {
   "cell_type": "code",
   "execution_count": 65,
   "metadata": {},
   "outputs": [],
   "source": [
    "from matplotlib.collections import LineCollection\n",
    "import numpy as np\n",
    "import matplotlib.pyplot as plt\n",
    "from qem.color import get_unique_colors\n",
    "\n",
    "def plot_lattice_parameter(crystal, units='A'):\n",
    "    \"\"\"\n",
    "    Plot local lattice parameters using adaptive cell origins.\n",
    "    The lattice parameter is defined as the distance between neighboring origins in a and b directions.\n",
    "    \"\"\"\n",
    "    adaptive_cells = crystal.get_origin_offset(\"adaptive\")\n",
    "    origins = np.array(list(adaptive_cells.values()))  # shape (N, 2)\n",
    "    dx = crystal.dx\n",
    "\n",
    "    # Get direction unit vectors\n",
    "    a_vec = crystal.a_vector['perfect']\n",
    "    b_vec = crystal.b_vector['perfect']\n",
    "    a_hat = a_vec / np.linalg.norm(a_vec)\n",
    "    b_hat = b_vec / np.linalg.norm(b_vec)\n",
    "\n",
    "    lines_a = []\n",
    "    values_a = []\n",
    "    lines_b = []\n",
    "    values_b = []\n",
    "    for i, origin in enumerate(origins):\n",
    "        rel = origins - origin\n",
    "        # Project onto a and b directions\n",
    "        proj_a = rel @ a_hat\n",
    "        proj_b = rel @ b_hat\n",
    "        # Find the closest neighbor in +a direction (exclude self)\n",
    "        mask_a = (proj_a > 0.1) & (np.abs(rel @ b_hat) < np.linalg.norm(b_vec)/2)\n",
    "        if np.any(mask_a):\n",
    "            j = np.argmin(np.where(mask_a, proj_a, np.inf))\n",
    "            lines_a.append([origin, origins[j]])\n",
    "            values_a.append(np.linalg.norm(origins[j] - origin) * dx)\n",
    "        # Find the closest neighbor in +b direction (exclude self)\n",
    "        mask_b = (proj_b > 0.1) & (np.abs(rel @ a_hat) < np.linalg.norm(a_vec)/2)\n",
    "        if np.any(mask_b):\n",
    "            j = np.argmin(np.where(mask_b, proj_b, np.inf))\n",
    "            lines_b.append([origin, origins[j]])\n",
    "            values_b.append(np.linalg.norm(origins[j] - origin) * dx)\n",
    "\n",
    "    # Atom coloring by type\n",
    "    x = crystal.atomic_columns.x\n",
    "    y = crystal.atomic_columns.y\n",
    "    atom_types = crystal.atomic_columns.atom_types\n",
    "    unique_types = np.unique(atom_types)\n",
    "    color_map = {atype: color for atype, color in zip(unique_types, get_unique_colors())}\n",
    "    atom_colors = [color_map[atype] for atype in atom_types]\n",
    "\n",
    "    plt.figure(figsize=(12, 6))\n",
    "    plt.subplot(1, 2, 1)\n",
    "    plt.imshow(crystal.image, cmap=\"gray\")\n",
    "    lc_a = LineCollection(lines_a, array=np.array(values_a), cmap='Blues', linewidths=2)\n",
    "    plt.gca().add_collection(lc_a)\n",
    "    plt.scatter(x, y, c=atom_colors, s=15, edgecolor='k', linewidth=0.5)\n",
    "    cbar_a = plt.colorbar(lc_a)\n",
    "    cbar_a.set_label(f'Lattice parameter a ({units})')\n",
    "    plt.axis('off')\n",
    "    if hasattr(crystal, 'scalebar'):\n",
    "        plt.gca().add_artist(crystal.scalebar)\n",
    "    plt.title('Lattice parameter a map')\n",
    "\n",
    "    plt.subplot(1, 2, 2)\n",
    "    plt.imshow(crystal.image, cmap=\"gray\")\n",
    "    lc_b = LineCollection(lines_b, array=np.array(values_b), cmap='Greens', linewidths=2)\n",
    "    plt.gca().add_collection(lc_b)\n",
    "    plt.scatter(x, y, c=atom_colors, s=15, edgecolor='k', linewidth=0.5)\n",
    "    cbar_b = plt.colorbar(lc_b)\n",
    "    cbar_b.set_label(f'Lattice parameter b ({units})')\n",
    "    plt.axis('off')\n",
    "    if hasattr(crystal, 'scalebar'):\n",
    "        plt.gca().add_artist(crystal.scalebar)\n",
    "    plt.title('Lattice parameter b map')\n",
    "    plt.show()\n",
    "\n",
    "plot_lattice_parameter(model.region_crysal_analyzer[0])\n"
   ]
  },
  {
   "cell_type": "code",
   "execution_count": 4,
   "metadata": {},
   "outputs": [],
   "source": [
    "from matplotlib.collections import LineCollection\n",
    "import numpy as np\n",
    "import matplotlib.pyplot as plt\n",
    "from qem.color import get_unique_colors\n",
    "\n",
    "def plot_lattice_parameter(crystal, units='A'):\n",
    "    \"\"\"\n",
    "    Plot local lattice parameters using adaptive cell origins.\n",
    "    The lattice parameter is defined as the distance between neighboring origins in a and b directions.\n",
    "    \"\"\"\n",
    "    adaptive_cells = crystal.get_origin_offset(\"adaptive\")\n",
    "    origins = np.array(list(adaptive_cells.values()))  # shape (N, 2)\n",
    "    dx = crystal.dx\n",
    "\n",
    "    # Get direction unit vectors\n",
    "    a_vec = crystal.a_vector['perfect']\n",
    "    b_vec = crystal.b_vector['perfect']\n",
    "    a_hat = a_vec / np.linalg.norm(a_vec)\n",
    "    b_hat = b_vec / np.linalg.norm(b_vec)\n",
    "\n",
    "    lines_a = []\n",
    "    values_a = []\n",
    "    lines_b = []\n",
    "    values_b = []\n",
    "    for i, origin in enumerate(origins):\n",
    "        rel = origins - origin\n",
    "        # Project onto a and b directions\n",
    "        proj_a = rel @ a_hat\n",
    "        proj_b = rel @ b_hat\n",
    "        # Find the closest neighbor in +a direction (exclude self)\n",
    "        mask_a = (proj_a > 0.1) & (np.abs(rel @ b_hat) < np.linalg.norm(b_vec)/2)\n",
    "        if np.any(mask_a):\n",
    "            j = np.argmin(np.where(mask_a, proj_a, np.inf))\n",
    "            lines_a.append([origin, origins[j]])\n",
    "            values_a.append(np.linalg.norm(origins[j] - origin) * dx)\n",
    "        # Find the closest neighbor in +b direction (exclude self)\n",
    "        mask_b = (proj_b > 0.1) & (np.abs(rel @ a_hat) < np.linalg.norm(a_vec)/2)\n",
    "        if np.any(mask_b):\n",
    "            j = np.argmin(np.where(mask_b, proj_b, np.inf))\n",
    "            lines_b.append([origin, origins[j]])\n",
    "            values_b.append(np.linalg.norm(origins[j] - origin) * dx)\n",
    "\n",
    "    # Atom coloring by type\n",
    "    x = crystal.atomic_columns.x\n",
    "    y = crystal.atomic_columns.y\n",
    "    atom_types = crystal.atomic_columns.atom_types\n",
    "    unique_types = np.unique(atom_types)\n",
    "    color_map = {atype: color for atype, color in zip(unique_types, get_unique_colors())}\n",
    "    atom_colors = [color_map[atype] for atype in atom_types]\n",
    "\n",
    "    plt.subplot(1, 2, 1)\n",
    "    plt.imshow(crystal.image, cmap=\"gray\")\n",
    "    lc_a = LineCollection(lines_a, array=np.array(values_a), cmap='Blues', linewidths=2)\n",
    "    plt.gca().add_collection(lc_a)\n",
    "    # plt.scatter(x, y, c=atom_colors, s=15, edgecolor='k', linewidth=0.5)\n",
    "    cbar_a = plt.colorbar(lc_a)\n",
    "    cbar_a.set_label(f'Lattice parameter a ({units})')\n",
    "    plt.axis('off')\n",
    "    if hasattr(crystal, 'scalebar'):\n",
    "        plt.gca().add_artist(crystal.scalebar)\n",
    "    plt.title('Lattice parameter a map')\n",
    "    # set the plot to the view of the image\n",
    "    plt.xlim(0, crystal.image.shape[1])\n",
    "    plt.ylim(0, crystal.image.shape[0])\n",
    "\n",
    "    plt.subplot(1, 2, 2)\n",
    "    plt.imshow(crystal.image, cmap=\"gray\")\n",
    "    lc_b = LineCollection(lines_b, array=np.array(values_b), cmap='Greens', linewidths=2)\n",
    "    plt.gca().add_collection(lc_b)\n",
    "    # plt.scatter(x, y, c=atom_colors, s=15, edgecolor='k', linewidth=0.5)\n",
    "    cbar_b = plt.colorbar(lc_b)\n",
    "    cbar_b.set_label(f'Lattice parameter b ({units})')\n",
    "    plt.axis('off')\n",
    "    if hasattr(crystal, 'scalebar'):\n",
    "        plt.gca().add_artist(crystal.scalebar)\n",
    "    plt.title('Lattice parameter b map')\n",
    "    # set the plot to the view of the image\n",
    "    plt.xlim(0, crystal.image.shape[1])\n",
    "    plt.ylim(0, crystal.image.shape[0])\n",
    "    plt.show()\n",
    "\n",
    "\n",
    "plot_lattice_parameter(model.region_crysal_analyzer[0])\n"
   ]
  },
  {
   "cell_type": "code",
   "execution_count": 46,
   "metadata": {},
   "outputs": [],
   "source": [
    "def plot_lattice_parameter_ab_nearest(crystal, units='A', show_lattice=False, angle_thresh=0.95, dist_min=1, dist_max_a=3, dist_max_b=3,boundary_thresh=100):\n",
    "    \"\"\"\n",
    "    Plot local lattice parameters using all nearest neighbors in the a and b directions\n",
    "    within an angular and distance cutoff.\n",
    "    \"\"\"\n",
    "    dx = crystal.dx\n",
    "    a_vec = crystal.a_vector['perfect']\n",
    "    b_vec = crystal.b_vector['perfect']\n",
    "    a_hat = a_vec / np.linalg.norm(a_vec)\n",
    "    b_hat = b_vec / np.linalg.norm(b_vec)\n",
    "\n",
    "    if dist_max_a is None:\n",
    "        # Guess a reasonable maximum distance (e.g., 1.5 × norm of a_vec)\n",
    "        dist_max_a  = 1.3 * np.linalg.norm(a_vec) * dx\n",
    "    if dist_max_b is None:\n",
    "        # Guess a reasonable maximum distance (e.g., 1.5 × norm of b_vec)\n",
    "        dist_max_b  = 1.3 * np.linalg.norm(b_vec) * dx\n",
    "\n",
    "    lines_a, values_a = [], []\n",
    "    lines_b, values_b = [], []\n",
    "\n",
    "    for i, coord in enumerate(crystal.peak_positions):\n",
    "        x,y = coord\n",
    "        if (\n",
    "            (x < boundary_thresh) or (x > crystal.image.shape[1] - boundary_thresh) or\n",
    "            (y < boundary_thresh) or (y > crystal.image.shape[0] - boundary_thresh)\n",
    "        ):\n",
    "            continue  # Skip if near boundary\n",
    "        rel = crystal.peak_positions - coord\n",
    "        dists = np.linalg.norm(rel, axis=1) * dx\n",
    "        # Exclude self\n",
    "        valid_a  = (dists > dist_min) & (dists < dist_max_a)\n",
    "        valid_b = (dists > dist_min) & (dists < dist_max_b)\n",
    "\n",
    "        # For a direction\n",
    "        cos_a = np.abs((rel @ a_hat) / (np.linalg.norm(rel, axis=1) + 1e-12))\n",
    "        mask_a = valid_a & (cos_a > angle_thresh)\n",
    "        for j in np.where(mask_a)[0]:\n",
    "            lines_a.append([coord, crystal.peak_positions[j]])\n",
    "            values_a.append(dists[j])\n",
    "\n",
    "        # For b direction\n",
    "        cos_b = np.abs((rel @ b_hat) / (np.linalg.norm(rel, axis=1) + 1e-12))\n",
    "        mask_b = valid_b & (cos_b > angle_thresh)\n",
    "        for j in np.where(mask_b)[0]:\n",
    "            lines_b.append([coord, crystal.peak_positions[j]])\n",
    "            values_b.append(dists[j])\n",
    "\n",
    "    # Atom coloring by type\n",
    "    x = crystal.atomic_columns.x\n",
    "    y = crystal.atomic_columns.y\n",
    "    atom_types = crystal.atomic_columns.atom_types\n",
    "    unique_types = np.unique(atom_types)\n",
    "    color_map = {atype: color for atype, color in zip(unique_types, get_unique_colors())}\n",
    "    atom_colors = [color_map[atype] for atype in atom_types]\n",
    "\n",
    "    plt.subplot(1, 2, 1)\n",
    "    plt.imshow(crystal.image, cmap=\"gray\")\n",
    "    lc_a = LineCollection(lines_a, array=np.array(values_a), cmap='Blues', linewidths=2)\n",
    "    plt.gca().add_collection(lc_a)\n",
    "    if show_lattice:\n",
    "        plt.scatter(x, y, c=atom_colors, s=15, edgecolor='k', linewidth=0.5)\n",
    "    cbar_a = plt.colorbar(lc_a)\n",
    "    cbar_a.set_label(f'Lattice parameter a (nearest, {units})')\n",
    "    plt.axis('off')\n",
    "    if hasattr(crystal, 'scalebar'):\n",
    "        plt.gca().add_artist(crystal.scalebar)\n",
    "    plt.title('Lattice parameter a (nearest) map')\n",
    "    plt.xlim(0, crystal.image.shape[1])\n",
    "    plt.ylim(0, crystal.image.shape[0])\n",
    "\n",
    "    plt.subplot(1, 2, 2)\n",
    "    plt.imshow(crystal.image, cmap=\"gray\")\n",
    "    lc_b = LineCollection(lines_b, array=np.array(values_b), cmap='Greens', linewidths=2)\n",
    "    plt.gca().add_collection(lc_b)\n",
    "    if show_lattice:\n",
    "        plt.scatter(x, y, c=atom_colors, s=15, edgecolor='k', linewidth=0.5)\n",
    "    cbar_b = plt.colorbar(lc_b)\n",
    "    cbar_b.set_label(f'Lattice parameter b (nearest, {units})')\n",
    "    plt.axis('off')\n",
    "    if hasattr(crystal, 'scalebar'):\n",
    "        plt.gca().add_artist(crystal.scalebar)\n",
    "    plt.title('Lattice parameter b (nearest) map')\n",
    "    plt.xlim(0, crystal.image.shape[1])\n",
    "    plt.ylim(0, crystal.image.shape[0])\n",
    "    plt.show()\n",
    "\n",
    "plot_lattice_parameter_ab_nearest(model.region_crysal_analyzer[0])\n"
   ]
  },
  {
   "cell_type": "code",
   "execution_count": null,
   "metadata": {},
   "outputs": [],
   "source": []
  }
 ],
 "metadata": {
  "kernelspec": {
   "display_name": "jax",
   "language": "python",
   "name": "python3"
  },
  "language_info": {
   "codemirror_mode": {
    "name": "ipython",
    "version": 3
   },
   "file_extension": ".py",
   "mimetype": "text/x-python",
   "name": "python",
   "nbconvert_exporter": "python",
   "pygments_lexer": "ipython3",
   "version": "3.11.9"
  }
 },
 "nbformat": 4,
 "nbformat_minor": 2
}

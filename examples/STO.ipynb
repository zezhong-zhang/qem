{
 "cells": [
  {
   "cell_type": "code",
   "execution_count": null,
   "metadata": {},
   "outputs": [],
   "source": [
    "import hyperspy.api as hs\n",
    "\n",
    "from qem.image_fitting import ImageModelFitting\n",
    "\n",
    "%matplotlib qt\n",
    "\n",
    "file = '../data/STO/haadf_small.hspy'\n",
    "\n",
    "s = hs.load(file)\n",
    "image = s.data\t\n",
    "dx = s.axes_manager[1].scale *10 # convert nm to Angstrom\n",
    "model=ImageModelFitting(image, dx=dx,units='A')"
   ]
  },
  {
   "cell_type": "code",
   "execution_count": 2,
   "metadata": {},
   "outputs": [],
   "source": [
    "model.plot() # inspect the image"
   ]
  },
  {
   "cell_type": "code",
   "execution_count": null,
   "metadata": {},
   "outputs": [],
   "source": [
    "model.find_peaks(min_distance=10,threshold_rel=0.05) # find atomic columns by local maximum"
   ]
  },
  {
   "cell_type": "code",
   "execution_count": null,
   "metadata": {},
   "outputs": [],
   "source": [
    "cif_file = '../data/STO/SrTiO3_mp-5229_conventional_standard.cif' \n",
    "model.map_lattice(cif_file=cif_file,elements=['Sr','Ti'], reciprocal=False,region_index=0) # map the cif unitcell to the image and tile it according the local peak positions"
   ]
  },
  {
   "cell_type": "code",
   "execution_count": 5,
   "metadata": {},
   "outputs": [],
   "source": [
    "model.view_3d() # view the 3D model using ase of Atoms object, with coordinates refined from the image"
   ]
  },
  {
   "cell_type": "code",
   "execution_count": null,
   "metadata": {},
   "outputs": [],
   "source": [
    "model.select_atoms() # select the region where has atoms"
   ]
  },
  {
   "cell_type": "code",
   "execution_count": 7,
   "metadata": {},
   "outputs": [],
   "source": [
    "model.plot_coordinates(10) # plot the coordinates of the selected region with element labels"
   ]
  },
  {
   "cell_type": "code",
   "execution_count": null,
   "metadata": {},
   "outputs": [],
   "source": [
    "model.fit_background = True\n",
    "params = model.init_params()\n",
    "model.fit_random_batch(params, batch_size=1000, maxiter=1, tol=1e-2, plot=False, step_size=0.01,verbose=False,num_epoch=1) # set the maxiter and tol and num_epoch to be larger for better fitting"
   ]
  },
  {
   "cell_type": "code",
   "execution_count": 9,
   "metadata": {},
   "outputs": [],
   "source": [
    "model.plot_fitting() # compare the fitting result with the original image"
   ]
  },
  {
   "cell_type": "code",
   "execution_count": 10,
   "metadata": {},
   "outputs": [],
   "source": [
    "model.plot_scs(per_element=True) # plot the scattering cross section of the elements in the selected region, show each element separately"
   ]
  },
  {
   "cell_type": "code",
   "execution_count": 11,
   "metadata": {},
   "outputs": [],
   "source": [
    "model.plot_scs_histogram() # plot the histogram of the scattering cross section of the selected region"
   ]
  },
  {
   "cell_type": "code",
   "execution_count": null,
   "metadata": {},
   "outputs": [],
   "source": [
    "model.voronoi_integration() # integrate the scattering cross section of the selected region using voronoi tessellation"
   ]
  },
  {
   "cell_type": "code",
   "execution_count": 13,
   "metadata": {},
   "outputs": [],
   "source": [
    "model.plot_scs_voronoi(per_element=True) # plot the scattering cross section of the selected region using voronoi tessellation"
   ]
  }
 ],
 "metadata": {
  "kernelspec": {
   "display_name": "jax",
   "language": "python",
   "name": "python3"
  },
  "language_info": {
   "codemirror_mode": {
    "name": "ipython",
    "version": 3
   },
   "file_extension": ".py",
   "mimetype": "text/x-python",
   "name": "python",
   "nbconvert_exporter": "python",
   "pygments_lexer": "ipython3",
   "version": "3.11.9"
  }
 },
 "nbformat": 4,
 "nbformat_minor": 2
}

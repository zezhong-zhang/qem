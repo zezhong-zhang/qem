{
 "cells": [
  {
   "cell_type": "code",
   "execution_count": 1,
   "metadata": {},
   "outputs": [
    {
     "name": "stderr",
     "output_type": "stream",
     "text": [
      "INFO:root:Elements: ['A', 'B', 'C'], the order is used for the atom types. Please initiate the correct elements in your system.\n",
      "WARNING:root:No coordinates found. Please run find_peaks first.\n",
      "INFO:root:Updated peak locations.\n",
      "INFO:root:Reading CIF file: /home/zzhang/OneDrive/code/qem/data/STO/SrTiO3_mp-5229_110.cube.cif. The elements selected are ['A', 'B', 'C'] and the elements in the CIF file are OTiO\n"
     ]
    },
    {
     "ename": "TypeError",
     "evalue": "cannot unpack non-iterable NoneType object",
     "output_type": "error",
     "traceback": [
      "\u001b[31m---------------------------------------------------------------------------\u001b[39m",
      "\u001b[31mTypeError\u001b[39m                                 Traceback (most recent call last)",
      "\u001b[36mCell\u001b[39m\u001b[36m \u001b[39m\u001b[32mIn[1]\u001b[39m\u001b[32m, line 21\u001b[39m\n\u001b[32m     19\u001b[39m image = image.max() - image\n\u001b[32m     20\u001b[39m model=ImageModelFitting(image, dx=dx,units=\u001b[33m'\u001b[39m\u001b[33mA\u001b[39m\u001b[33m'\u001b[39m)\n\u001b[32m---> \u001b[39m\u001b[32m21\u001b[39m \u001b[43mmodel\u001b[49m\u001b[43m.\u001b[49m\u001b[43mcalibrate\u001b[49m\u001b[43m(\u001b[49m\u001b[43mcif_file\u001b[49m\u001b[43m=\u001b[49m\u001b[33;43m'\u001b[39;49m\u001b[33;43m/home/zzhang/OneDrive/code/qem/data/STO/SrTiO3_mp-5229_110.cube.cif\u001b[39;49m\u001b[33;43m'\u001b[39;49m\u001b[43m)\u001b[49m\n",
      "\u001b[36mFile \u001b[39m\u001b[32m~/OneDrive/code/qem/qem/image_fitting.py:1653\u001b[39m, in \u001b[36mImageModelFitting.calibrate\u001b[39m\u001b[34m(self, cif_file, a, b, region_index, unit_cell)\u001b[39m\n\u001b[32m   1651\u001b[39m a = a \u001b[38;5;28;01mif\u001b[39;00m a \u001b[38;5;129;01mis\u001b[39;00m \u001b[38;5;129;01mnot\u001b[39;00m \u001b[38;5;28;01mNone\u001b[39;00m \u001b[38;5;28;01melse\u001b[39;00m np.linalg.norm(crystal_analyzer.unit_cell.cell[\u001b[32m0\u001b[39m])\n\u001b[32m   1652\u001b[39m b = b \u001b[38;5;28;01mif\u001b[39;00m b \u001b[38;5;129;01mis\u001b[39;00m \u001b[38;5;129;01mnot\u001b[39;00m \u001b[38;5;28;01mNone\u001b[39;00m \u001b[38;5;28;01melse\u001b[39;00m np.linalg.norm(crystal_analyzer.unit_cell.cell[\u001b[32m1\u001b[39m])\n\u001b[32m-> \u001b[39m\u001b[32m1653\u001b[39m _, vec_a_pixel, vec_b_pixel = \u001b[43mcrystal_analyzer\u001b[49m\u001b[43m.\u001b[49m\u001b[43mselect_lattice_vectors\u001b[49m\u001b[43m(\u001b[49m\u001b[43mreciprocal\u001b[49m\u001b[43m=\u001b[49m\u001b[38;5;28;43;01mTrue\u001b[39;49;00m\u001b[43m)\u001b[49m\n\u001b[32m   1654\u001b[39m dx_a = a / np.linalg.norm(vec_a_pixel)\n\u001b[32m   1655\u001b[39m dx_b = b / np.linalg.norm(vec_b_pixel)\n",
      "\u001b[36mFile \u001b[39m\u001b[32m~/OneDrive/code/qem/qem/crystal_analyzer.py:510\u001b[39m, in \u001b[36mCrystalAnalyzer.select_lattice_vectors\u001b[39m\u001b[34m(self, tolerance, reciprocal)\u001b[39m\n\u001b[32m    493\u001b[39m \u001b[38;5;250m\u001b[39m\u001b[33;03m\"\"\"\u001b[39;00m\n\u001b[32m    494\u001b[39m \u001b[33;03mChoose the lattice vectors based on the given tolerance.\u001b[39;00m\n\u001b[32m    495\u001b[39m \n\u001b[32m   (...)\u001b[39m\u001b[32m    500\u001b[39m \u001b[33;03m- The selected origin, a, and b vectors.\u001b[39;00m\n\u001b[32m    501\u001b[39m \u001b[33;03m\"\"\"\u001b[39;00m\n\u001b[32m    502\u001b[39m real_plot = InteractivePlot(\n\u001b[32m    503\u001b[39m     image=\u001b[38;5;28mself\u001b[39m.image,\n\u001b[32m    504\u001b[39m     peaks_locations=\u001b[38;5;28mself\u001b[39m.peak_positions,\n\u001b[32m   (...)\u001b[39m\u001b[32m    507\u001b[39m     units=\u001b[38;5;28mself\u001b[39m.units,\n\u001b[32m    508\u001b[39m )\n\u001b[32m--> \u001b[39m\u001b[32m510\u001b[39m real_origin, real_a, real_b = real_plot.select_vectors(tolerance=tolerance)  \u001b[38;5;66;03m# type: ignore\u001b[39;00m\n\u001b[32m    512\u001b[39m \u001b[38;5;28;01mif\u001b[39;00m reciprocal:\n\u001b[32m    513\u001b[39m     image_filtered = gaussian_filter(\u001b[38;5;28mself\u001b[39m.image, \u001b[32m1\u001b[39m)\n",
      "\u001b[31mTypeError\u001b[39m: cannot unpack non-iterable NoneType object"
     ]
    }
   ],
   "source": [
    "import hyperspy.api as hs\n",
    "import numpy as np\n",
    "from qem.image_fitting import ImageModelFitting\n",
    "import cv2\n",
    "\n",
    "%matplotlib qt\n",
    "\n",
    "file = '/home/zzhang/OneDrive/code/qem/data/SRO-CTO/ABF time step .hspy'\n",
    "s = hs.load(file)\n",
    "dx = s.axes_manager[1].scale *10 # convert nm to Angstrom\n",
    "dx = 0.05431373318394167 # Angstrom, calculated from fft\n",
    "\n",
    "image = s.data[-1000:,50:-50]\n",
    "image = image - image.min()\n",
    "\n",
    "from scipy import ndimage\n",
    "\n",
    "\n",
    "image = image.max() - image\n",
    "model=ImageModelFitting(image, dx=dx,units='A')\n",
    "model.calibrate(cif_file='/home/zzhang/OneDrive/code/qem/data/STO/SrTiO3_mp-5229_110.cube.cif')"
   ]
  },
  {
   "cell_type": "code",
   "execution_count": 1,
   "metadata": {},
   "outputs": [
    {
     "name": "stderr",
     "output_type": "stream",
     "text": [
      "INFO:root:Elements: ['A', 'B', 'C'], the order is used for the atom types. Please initiate the correct elements in your system.\n"
     ]
    }
   ],
   "source": [
    "import hyperspy.api as hs\n",
    "import numpy as np\n",
    "from qem.image_fitting import ImageModelFitting\n",
    "import cv2\n",
    "\n",
    "%matplotlib qt\n",
    "\n",
    "# file = '../data/STO/haadf_small.hspy'\n",
    "\n",
    "file = '/home/zzhang/OneDrive/code/qem/data/SRO-CTO/ABF time step .hspy'\n",
    "# file = '/home/zzhang/OneDrive/data/Nico/SRO-CTO Superlattice/9-45/restore_hdf5/ADF time step .hspy'\n",
    "# file = '/home/zzhang/OneDrive/code/qem/examples/superlattice_adf.h5'\n",
    "s = hs.load(file)\n",
    "dx = s.axes_manager[1].scale *10 # convert nm to Angstrom\n",
    "dx = 0.05431373318394167 # Angstrom, calculated from fft\n",
    "\n",
    "image = s.data[50:-50,50:-50]\n",
    "image = image - image.min()\n",
    "\n",
    "# rotate the image by 45 degrees\n",
    "from scipy import ndimage\n",
    "\n",
    "# theta = 45\n",
    "# rotated_image = ndimage.rotate(image, theta, reshape=False, mode='constant')\n",
    "\n",
    "# Replace the original image with the rotated one\n",
    "# image = rotated_image[:,1200:2800]\n",
    "\n",
    "image = image.max() - image\n",
    "model=ImageModelFitting(image, dx=dx,units='A')\n",
    "# model.plot() # inspect the image"
   ]
  },
  {
   "cell_type": "code",
   "execution_count": 2,
   "metadata": {},
   "outputs": [
    {
     "name": "stderr",
     "output_type": "stream",
     "text": [
      "INFO:root:Updated peak locations.\n"
     ]
    },
    {
     "data": {
      "text/plain": [
       "array([[2109., 1784.],\n",
       "       [ 518., 2429.],\n",
       "       [ 672., 2429.],\n",
       "       ...,\n",
       "       [3586.,  207.],\n",
       "       [  65.,  861.],\n",
       "       [3891.,  207.]])"
      ]
     },
     "execution_count": 2,
     "metadata": {},
     "output_type": "execute_result"
    }
   ],
   "source": [
    "model.find_peaks(min_distance=10,threshold_rel=0.05)"
   ]
  },
  {
   "cell_type": "code",
   "execution_count": 3,
   "metadata": {},
   "outputs": [
    {
     "name": "stderr",
     "output_type": "stream",
     "text": [
      "INFO:root:Reading CIF file: /home/zzhang/OneDrive/code/qem/data/STO/SrTiO3_mp-5229_110.vasp. The elements selected are ['Sr', 'Ti', 'O'] and the elements in the CIF file are SrTiO3\n",
      "/home/zzhang/OneDrive/code/qem/qem/gui_classes.py:371: UserWarning: You passed a edgecolor/edgecolors ('black') for an unfilled marker ('x').  Matplotlib is ignoring the edgecolor in favor of the facecolor.  This behavior may change in the future.\n",
      "  plt.scatter(\n",
      "INFO:root:Origin selected: [1887. 3104.]\n",
      "INFO:root:Vector a selected: [51.  0.]\n",
      "INFO:root:Vector b selected: [ 1. 71.]\n",
      "INFO:root:In pixel: Origin: [1887. 3104.], Vector a: [51.  0.], Vector b: [ 1. 71.]\n",
      "INFO:root:In space: Origin: [102.49001452 168.5898278 ] A, Vector a: [2.77000039 0.        ] A, Vector b: [0.05431373 3.85627506] A\n",
      "INFO:root:Origin selected: [1998. 1998.]\n",
      "INFO:root:Vector a selected: [234.   3.]\n",
      "INFO:root:Vector b selected: [  0. 168.]\n",
      "INFO:root:In pixel: Origin: [1998. 1998.], Vector a: [78.  1.], Vector b: [ 0. 56.]\n",
      "INFO:root:In space: Origin: [3.06859162 3.06859162] 1/A, Vector a: [0.11979487 0.00153583] 1/A, Vector b: [0.         0.08600657] 1/A\n",
      "INFO:root:FFT real a: [51.22235004  0.6566968 ] pixel, Real b: [ 0.         71.35714286] pixel\n",
      "INFO:root:FFT real a: [2.78207705 0.03566765] A, Real b: [0.         3.87567282] A\n",
      "INFO:root:Perfect a: [50.83474961 -0.65172756] pixel, Perfect b: [ 0.92168196 71.89119323] pixel by rotation of unit cell and scaling with pixel size.\n"
     ]
    },
    {
     "data": {
      "text/plain": [
       "AtomicColumns(lattice=Atoms(symbols='O13059Sr4411Ti4340', pbc=False, cell=[217.0376778030309, 217.0376778030309, 2.7612519264]), lattice_ref=Atoms(symbols='O13059Sr4411Ti4340', pbc=False, cell=[217.0376778030309, 217.0376778030309, 2.7612519264]), elements=['Sr', 'Ti', 'O'], tol=0, pixel_size=0.05431373318394167, reference={'origin': array([1887., 3104.]), 'vector_a': array([50.83474961, -0.65172756]), 'vector_b': array([ 0.92168196, 71.89119323])})"
      ]
     },
     "execution_count": 3,
     "metadata": {},
     "output_type": "execute_result"
    }
   ],
   "source": [
    "cif_file = '/home/zzhang/OneDrive/code/qem/data/STO/SrTiO3_mp-5229_110.vasp' \n",
    "# cif_file ='/home/zzhang/OneDrive/code/qem/data/STO/SrTiO3_mp-5229_conventional_standard.cif'\n",
    "model.map_lattice(cif_file=cif_file,elements=['Sr','Ti','O'], reciprocal=True,region_index=0) # map the cif unitcell to the image and tile it according the local peak positions"
   ]
  },
  {
   "cell_type": "code",
   "execution_count": 4,
   "metadata": {},
   "outputs": [],
   "source": [
    "\n",
    "\n",
    "model.regions[0].analyzer.plot_lattice_parameter_unitcell(boundary_thresh=10,line_plot_direction='b',line_plot_averaging_window=3,line_plot_style='error_bars')"
   ]
  },
  {
   "cell_type": "code",
   "execution_count": 6,
   "metadata": {},
   "outputs": [],
   "source": [
    "model.plot_coordinates()"
   ]
  },
  {
   "cell_type": "code",
   "execution_count": 7,
   "metadata": {},
   "outputs": [
    {
     "name": "stdout",
     "output_type": "stream",
     "text": [
      "Value(False)\n",
      "Value(False)\n"
     ]
    },
    {
     "name": "stderr",
     "output_type": "stream",
     "text": [
      "INFO:root:Perfect a: [50.83474961 -0.65172756] pixel, Perfect b: [ 0.92168196 71.89119323] pixel by rotation of unit cell and scaling with pixel size.\n"
     ]
    },
    {
     "ename": "IndexError",
     "evalue": "boolean index did not match indexed array along dimension 0; dimension is 21805 but corresponding boolean dimension is 13072",
     "output_type": "error",
     "traceback": [
      "\u001b[31m---------------------------------------------------------------------------\u001b[39m",
      "\u001b[31mIndexError\u001b[39m                                Traceback (most recent call last)",
      "\u001b[36mCell\u001b[39m\u001b[36m \u001b[39m\u001b[32mIn[7]\u001b[39m\u001b[32m, line 1\u001b[39m\n\u001b[32m----> \u001b[39m\u001b[32m1\u001b[39m \u001b[43mmodel\u001b[49m\u001b[43m.\u001b[49m\u001b[43mregions\u001b[49m\u001b[43m[\u001b[49m\u001b[32;43m0\u001b[39;49m\u001b[43m]\u001b[49m\u001b[43m.\u001b[49m\u001b[43manalyzer\u001b[49m\u001b[43m.\u001b[49m\u001b[43mplot\u001b[49m\u001b[43m(\u001b[49m\u001b[43m)\u001b[49m\n",
      "\u001b[36mFile \u001b[39m\u001b[32m~/OneDrive/code/qem/qem/crystal_analyzer.py:585\u001b[39m, in \u001b[36mCrystalAnalyzer.plot\u001b[39m\u001b[34m(self)\u001b[39m\n\u001b[32m    582\u001b[39m     mask = \u001b[38;5;28mself\u001b[39m.atom_types == atom_type\n\u001b[32m    583\u001b[39m     element = \u001b[38;5;28mself\u001b[39m.elements[atom_type]\n\u001b[32m    584\u001b[39m     plt.scatter(\n\u001b[32m--> \u001b[39m\u001b[32m585\u001b[39m         \u001b[38;5;28;43mself\u001b[39;49m\u001b[43m.\u001b[49m\u001b[43mlattice\u001b[49m\u001b[43m.\u001b[49m\u001b[43mpositions\u001b[49m\u001b[43m[\u001b[49m\u001b[43mmask\u001b[49m\u001b[43m,\u001b[49m\u001b[43m \u001b[49m\u001b[32;43m0\u001b[39;49m\u001b[43m]\u001b[49m / \u001b[38;5;28mself\u001b[39m.dx,\n\u001b[32m    586\u001b[39m         \u001b[38;5;28mself\u001b[39m.lattice.positions[mask, \u001b[32m1\u001b[39m] / \u001b[38;5;28mself\u001b[39m.dx,\n\u001b[32m    587\u001b[39m         label=element,\n\u001b[32m    588\u001b[39m         color=\u001b[38;5;28mnext\u001b[39m(color_iterator),\n\u001b[32m    589\u001b[39m     )\n\u001b[32m    590\u001b[39m plt.gca().invert_yaxis()\n\u001b[32m    591\u001b[39m plt.legend()\n",
      "\u001b[31mIndexError\u001b[39m: boolean index did not match indexed array along dimension 0; dimension is 21805 but corresponding boolean dimension is 13072"
     ]
    }
   ],
   "source": [
    "model.regions[0].analyzer.plot()"
   ]
  },
  {
   "cell_type": "code",
   "execution_count": 7,
   "metadata": {},
   "outputs": [
    {
     "data": {
      "text/plain": [
       "<matplotlib.image.AxesImage at 0x70c5019f50d0>"
      ]
     },
     "execution_count": 7,
     "metadata": {},
     "output_type": "execute_result"
    }
   ],
   "source": [
    "\n",
    "import matplotlib.pyplot as plt\n",
    "plt.imshow(model.regions[0].analyzer.image)"
   ]
  },
  {
   "cell_type": "code",
   "execution_count": null,
   "metadata": {},
   "outputs": [
    {
     "name": "stderr",
     "output_type": "stream",
     "text": [
      "/home/zzhang/OneDrive/code/qem/qem/image_fitting.py:451: UserWarning: Starting a Matplotlib GUI outside of the main thread will likely fail.\n",
      "  plt.clf()\n",
      "Refining center of mass:   0%|          | 0/1674 [00:00<?, ?it/s]/home/zzhang/OneDrive/code/qem/qem/image_fitting.py:455: UserWarning: Starting a Matplotlib GUI outside of the main thread will likely fail.\n",
      "  plt.pause(1.0)\n",
      "Refining center of mass:   0%|          | 0/1674 [00:00<?, ?it/s]\n"
     ]
    },
    {
     "ename": "KeyboardInterrupt",
     "evalue": "",
     "output_type": "error",
     "traceback": [
      "\u001b[31m---------------------------------------------------------------------------\u001b[39m",
      "\u001b[31mValueError\u001b[39m                                Traceback (most recent call last)",
      "\u001b[36mFile \u001b[39m\u001b[32m~/OneDrive/code/qem/qem/image_fitting.py:483\u001b[39m, in \u001b[36mImageModelFitting.refine_center_of_mass\u001b[39m\u001b[34m(self, params, plot)\u001b[39m\n\u001b[32m    482\u001b[39m \u001b[38;5;28;01mfor\u001b[39;00m future \u001b[38;5;129;01min\u001b[39;00m tqdm(as_completed(futures), total=\u001b[38;5;28mself\u001b[39m.num_coordinates, desc=\u001b[33m\"\u001b[39m\u001b[33mRefining center of mass\u001b[39m\u001b[33m\"\u001b[39m):\n\u001b[32m--> \u001b[39m\u001b[32m483\u001b[39m     result, i = \u001b[43mfuture\u001b[49m\u001b[43m.\u001b[49m\u001b[43mresult\u001b[49m\u001b[43m(\u001b[49m\u001b[43m)\u001b[49m\n\u001b[32m    484\u001b[39m     \u001b[38;5;28;01mif\u001b[39;00m result \u001b[38;5;129;01mis\u001b[39;00m \u001b[38;5;129;01mnot\u001b[39;00m \u001b[38;5;28;01mNone\u001b[39;00m:\n",
      "\u001b[36mFile \u001b[39m\u001b[32m~/miniconda3/envs/jax/lib/python3.11/concurrent/futures/_base.py:449\u001b[39m, in \u001b[36mFuture.result\u001b[39m\u001b[34m(self, timeout)\u001b[39m\n\u001b[32m    448\u001b[39m \u001b[38;5;28;01melif\u001b[39;00m \u001b[38;5;28mself\u001b[39m._state == FINISHED:\n\u001b[32m--> \u001b[39m\u001b[32m449\u001b[39m     \u001b[38;5;28;01mreturn\u001b[39;00m \u001b[38;5;28;43mself\u001b[39;49m\u001b[43m.\u001b[49m\u001b[43m__get_result\u001b[49m\u001b[43m(\u001b[49m\u001b[43m)\u001b[49m\n\u001b[32m    451\u001b[39m \u001b[38;5;28mself\u001b[39m._condition.wait(timeout)\n",
      "\u001b[36mFile \u001b[39m\u001b[32m~/miniconda3/envs/jax/lib/python3.11/concurrent/futures/_base.py:401\u001b[39m, in \u001b[36mFuture.__get_result\u001b[39m\u001b[34m(self)\u001b[39m\n\u001b[32m    400\u001b[39m \u001b[38;5;28;01mtry\u001b[39;00m:\n\u001b[32m--> \u001b[39m\u001b[32m401\u001b[39m     \u001b[38;5;28;01mraise\u001b[39;00m \u001b[38;5;28mself\u001b[39m._exception\n\u001b[32m    402\u001b[39m \u001b[38;5;28;01mfinally\u001b[39;00m:\n\u001b[32m    403\u001b[39m     \u001b[38;5;66;03m# Break a reference cycle with the exception in self._exception\u001b[39;00m\n",
      "\u001b[36mFile \u001b[39m\u001b[32m~/miniconda3/envs/jax/lib/python3.11/concurrent/futures/thread.py:58\u001b[39m, in \u001b[36m_WorkItem.run\u001b[39m\u001b[34m(self)\u001b[39m\n\u001b[32m     57\u001b[39m \u001b[38;5;28;01mtry\u001b[39;00m:\n\u001b[32m---> \u001b[39m\u001b[32m58\u001b[39m     result = \u001b[38;5;28;43mself\u001b[39;49m\u001b[43m.\u001b[49m\u001b[43mfn\u001b[49m\u001b[43m(\u001b[49m\u001b[43m*\u001b[49m\u001b[38;5;28;43mself\u001b[39;49m\u001b[43m.\u001b[49m\u001b[43margs\u001b[49m\u001b[43m,\u001b[49m\u001b[43m \u001b[49m\u001b[43m*\u001b[49m\u001b[43m*\u001b[49m\u001b[38;5;28;43mself\u001b[39;49m\u001b[43m.\u001b[49m\u001b[43mkwargs\u001b[49m\u001b[43m)\u001b[49m\n\u001b[32m     59\u001b[39m \u001b[38;5;28;01mexcept\u001b[39;00m \u001b[38;5;167;01mBaseException\u001b[39;00m \u001b[38;5;28;01mas\u001b[39;00m exc:\n",
      "\u001b[36mFile \u001b[39m\u001b[32m~/OneDrive/code/qem/qem/image_fitting.py:455\u001b[39m, in \u001b[36mImageModelFitting._refine_one_center\u001b[39m\u001b[34m(self, i, point_record, plot)\u001b[39m\n\u001b[32m    454\u001b[39m     plt.legend()\n\u001b[32m--> \u001b[39m\u001b[32m455\u001b[39m     \u001b[43mplt\u001b[49m\u001b[43m.\u001b[49m\u001b[43mpause\u001b[49m\u001b[43m(\u001b[49m\u001b[32;43m1.0\u001b[39;49m\u001b[43m)\u001b[49m\n\u001b[32m    456\u001b[39m \u001b[38;5;28;01mreturn\u001b[39;00m result, i\n",
      "\u001b[36mFile \u001b[39m\u001b[32m~/miniconda3/envs/jax/lib/python3.11/site-packages/matplotlib/pyplot.py:758\u001b[39m, in \u001b[36mpause\u001b[39m\u001b[34m(interval)\u001b[39m\n\u001b[32m    757\u001b[39m     show(block=\u001b[38;5;28;01mFalse\u001b[39;00m)\n\u001b[32m--> \u001b[39m\u001b[32m758\u001b[39m     \u001b[43mcanvas\u001b[49m\u001b[43m.\u001b[49m\u001b[43mstart_event_loop\u001b[49m\u001b[43m(\u001b[49m\u001b[43minterval\u001b[49m\u001b[43m)\u001b[49m\n\u001b[32m    759\u001b[39m \u001b[38;5;28;01melse\u001b[39;00m:\n",
      "\u001b[36mFile \u001b[39m\u001b[32m~/miniconda3/envs/jax/lib/python3.11/site-packages/matplotlib/backends/backend_qt.py:459\u001b[39m, in \u001b[36mFigureCanvasQT.start_event_loop\u001b[39m\u001b[34m(self, timeout)\u001b[39m\n\u001b[32m    457\u001b[39m     _ = QtCore.QTimer.singleShot(\u001b[38;5;28mint\u001b[39m(timeout * \u001b[32m1000\u001b[39m), event_loop.quit)\n\u001b[32m--> \u001b[39m\u001b[32m459\u001b[39m \u001b[43m\u001b[49m\u001b[38;5;28;43;01mwith\u001b[39;49;00m\u001b[43m \u001b[49m\u001b[43m_allow_interrupt_qt\u001b[49m\u001b[43m(\u001b[49m\u001b[43mevent_loop\u001b[49m\u001b[43m)\u001b[49m\u001b[43m:\u001b[49m\n\u001b[32m    460\u001b[39m \u001b[43m    \u001b[49m\u001b[43mqt_compat\u001b[49m\u001b[43m.\u001b[49m\u001b[43m_exec\u001b[49m\u001b[43m(\u001b[49m\u001b[43mevent_loop\u001b[49m\u001b[43m)\u001b[49m\n",
      "\u001b[36mFile \u001b[39m\u001b[32m~/miniconda3/envs/jax/lib/python3.11/contextlib.py:137\u001b[39m, in \u001b[36m_GeneratorContextManager.__enter__\u001b[39m\u001b[34m(self)\u001b[39m\n\u001b[32m    136\u001b[39m \u001b[38;5;28;01mtry\u001b[39;00m:\n\u001b[32m--> \u001b[39m\u001b[32m137\u001b[39m     \u001b[38;5;28;01mreturn\u001b[39;00m \u001b[38;5;28mnext\u001b[39m(\u001b[38;5;28mself\u001b[39m.gen)\n\u001b[32m    138\u001b[39m \u001b[38;5;28;01mexcept\u001b[39;00m \u001b[38;5;167;01mStopIteration\u001b[39;00m:\n",
      "\u001b[36mFile \u001b[39m\u001b[32m~/miniconda3/envs/jax/lib/python3.11/site-packages/matplotlib/backend_bases.py:1641\u001b[39m, in \u001b[36m_allow_interrupt\u001b[39m\u001b[34m(prepare_notifier, handle_sigint)\u001b[39m\n\u001b[32m   1640\u001b[39m rsock.setblocking(\u001b[38;5;28;01mFalse\u001b[39;00m)\n\u001b[32m-> \u001b[39m\u001b[32m1641\u001b[39m old_wakeup_fd = \u001b[43msignal\u001b[49m\u001b[43m.\u001b[49m\u001b[43mset_wakeup_fd\u001b[49m\u001b[43m(\u001b[49m\u001b[43mwsock\u001b[49m\u001b[43m.\u001b[49m\u001b[43mfileno\u001b[49m\u001b[43m(\u001b[49m\u001b[43m)\u001b[49m\u001b[43m)\u001b[49m\n\u001b[32m   1642\u001b[39m notifier = prepare_notifier(rsock)\n",
      "\u001b[31mValueError\u001b[39m: set_wakeup_fd only works in main thread of the main interpreter",
      "\nDuring handling of the above exception, another exception occurred:\n",
      "\u001b[31mKeyboardInterrupt\u001b[39m                         Traceback (most recent call last)",
      "\u001b[36mCell\u001b[39m\u001b[36m \u001b[39m\u001b[32mIn[21]\u001b[39m\u001b[32m, line 2\u001b[39m\n\u001b[32m      1\u001b[39m \u001b[38;5;66;03m# model.init_params()\u001b[39;00m\n\u001b[32m----> \u001b[39m\u001b[32m2\u001b[39m \u001b[43mmodel\u001b[49m\u001b[43m.\u001b[49m\u001b[43mrefine_center_of_mass\u001b[49m\u001b[43m(\u001b[49m\u001b[43mplot\u001b[49m\u001b[43m=\u001b[49m\u001b[38;5;28;43;01mTrue\u001b[39;49;00m\u001b[43m)\u001b[49m\n",
      "\u001b[36mFile \u001b[39m\u001b[32m~/OneDrive/code/qem/qem/image_fitting.py:477\u001b[39m, in \u001b[36mImageModelFitting.refine_center_of_mass\u001b[39m\u001b[34m(self, params, plot)\u001b[39m\n\u001b[32m    472\u001b[39m point_record = fast_voronoi_point_record(\u001b[38;5;28mself\u001b[39m.image, coords, max_radius)\n\u001b[32m    476\u001b[39m \u001b[38;5;66;03m# In refine_center_of_mass, replace the for-loop with:\u001b[39;00m\n\u001b[32m--> \u001b[39m\u001b[32m477\u001b[39m \u001b[43m\u001b[49m\u001b[38;5;28;43;01mwith\u001b[39;49;00m\u001b[43m \u001b[49m\u001b[43mThreadPoolExecutor\u001b[49m\u001b[43m(\u001b[49m\u001b[43m)\u001b[49m\u001b[43m \u001b[49m\u001b[38;5;28;43;01mas\u001b[39;49;00m\u001b[43m \u001b[49m\u001b[43mexecutor\u001b[49m\u001b[43m:\u001b[49m\n\u001b[32m    478\u001b[39m \u001b[43m    \u001b[49m\u001b[43mfutures\u001b[49m\u001b[43m \u001b[49m\u001b[43m=\u001b[49m\u001b[43m \u001b[49m\u001b[43m[\u001b[49m\n\u001b[32m    479\u001b[39m \u001b[43m        \u001b[49m\u001b[43mexecutor\u001b[49m\u001b[43m.\u001b[49m\u001b[43msubmit\u001b[49m\u001b[43m(\u001b[49m\u001b[38;5;28;43mself\u001b[39;49m\u001b[43m.\u001b[49m\u001b[43m_refine_one_center\u001b[49m\u001b[43m,\u001b[49m\u001b[43m \u001b[49m\u001b[43mi\u001b[49m\u001b[43m,\u001b[49m\u001b[43m \u001b[49m\u001b[43mpoint_record\u001b[49m\u001b[43m,\u001b[49m\u001b[43m \u001b[49m\u001b[43mplot\u001b[49m\u001b[43m)\u001b[49m\n\u001b[32m    480\u001b[39m \u001b[43m        \u001b[49m\u001b[38;5;28;43;01mfor\u001b[39;49;00m\u001b[43m \u001b[49m\u001b[43mi\u001b[49m\u001b[43m \u001b[49m\u001b[38;5;129;43;01min\u001b[39;49;00m\u001b[43m \u001b[49m\u001b[38;5;28;43mrange\u001b[39;49m\u001b[43m(\u001b[49m\u001b[38;5;28;43mself\u001b[39;49m\u001b[43m.\u001b[49m\u001b[43mnum_coordinates\u001b[49m\u001b[43m)\u001b[49m\n\u001b[32m    481\u001b[39m \u001b[43m    \u001b[49m\u001b[43m]\u001b[49m\n\u001b[32m    482\u001b[39m \u001b[43m    \u001b[49m\u001b[38;5;28;43;01mfor\u001b[39;49;00m\u001b[43m \u001b[49m\u001b[43mfuture\u001b[49m\u001b[43m \u001b[49m\u001b[38;5;129;43;01min\u001b[39;49;00m\u001b[43m \u001b[49m\u001b[43mtqdm\u001b[49m\u001b[43m(\u001b[49m\u001b[43mas_completed\u001b[49m\u001b[43m(\u001b[49m\u001b[43mfutures\u001b[49m\u001b[43m)\u001b[49m\u001b[43m,\u001b[49m\u001b[43m \u001b[49m\u001b[43mtotal\u001b[49m\u001b[43m=\u001b[49m\u001b[38;5;28;43mself\u001b[39;49m\u001b[43m.\u001b[49m\u001b[43mnum_coordinates\u001b[49m\u001b[43m,\u001b[49m\u001b[43m \u001b[49m\u001b[43mdesc\u001b[49m\u001b[43m=\u001b[49m\u001b[33;43m\"\u001b[39;49m\u001b[33;43mRefining center of mass\u001b[39;49m\u001b[33;43m\"\u001b[39;49m\u001b[43m)\u001b[49m\u001b[43m:\u001b[49m\n",
      "\u001b[36mFile \u001b[39m\u001b[32m~/miniconda3/envs/jax/lib/python3.11/concurrent/futures/_base.py:647\u001b[39m, in \u001b[36mExecutor.__exit__\u001b[39m\u001b[34m(self, exc_type, exc_val, exc_tb)\u001b[39m\n\u001b[32m    646\u001b[39m \u001b[38;5;28;01mdef\u001b[39;00m\u001b[38;5;250m \u001b[39m\u001b[34m__exit__\u001b[39m(\u001b[38;5;28mself\u001b[39m, exc_type, exc_val, exc_tb):\n\u001b[32m--> \u001b[39m\u001b[32m647\u001b[39m     \u001b[38;5;28;43mself\u001b[39;49m\u001b[43m.\u001b[49m\u001b[43mshutdown\u001b[49m\u001b[43m(\u001b[49m\u001b[43mwait\u001b[49m\u001b[43m=\u001b[49m\u001b[38;5;28;43;01mTrue\u001b[39;49;00m\u001b[43m)\u001b[49m\n\u001b[32m    648\u001b[39m     \u001b[38;5;28;01mreturn\u001b[39;00m \u001b[38;5;28;01mFalse\u001b[39;00m\n",
      "\u001b[36mFile \u001b[39m\u001b[32m~/miniconda3/envs/jax/lib/python3.11/concurrent/futures/thread.py:235\u001b[39m, in \u001b[36mThreadPoolExecutor.shutdown\u001b[39m\u001b[34m(self, wait, cancel_futures)\u001b[39m\n\u001b[32m    233\u001b[39m \u001b[38;5;28;01mif\u001b[39;00m wait:\n\u001b[32m    234\u001b[39m     \u001b[38;5;28;01mfor\u001b[39;00m t \u001b[38;5;129;01min\u001b[39;00m \u001b[38;5;28mself\u001b[39m._threads:\n\u001b[32m--> \u001b[39m\u001b[32m235\u001b[39m         \u001b[43mt\u001b[49m\u001b[43m.\u001b[49m\u001b[43mjoin\u001b[49m\u001b[43m(\u001b[49m\u001b[43m)\u001b[49m\n",
      "\u001b[36mFile \u001b[39m\u001b[32m~/miniconda3/envs/jax/lib/python3.11/threading.py:1119\u001b[39m, in \u001b[36mThread.join\u001b[39m\u001b[34m(self, timeout)\u001b[39m\n\u001b[32m   1116\u001b[39m     \u001b[38;5;28;01mraise\u001b[39;00m \u001b[38;5;167;01mRuntimeError\u001b[39;00m(\u001b[33m\"\u001b[39m\u001b[33mcannot join current thread\u001b[39m\u001b[33m\"\u001b[39m)\n\u001b[32m   1118\u001b[39m \u001b[38;5;28;01mif\u001b[39;00m timeout \u001b[38;5;129;01mis\u001b[39;00m \u001b[38;5;28;01mNone\u001b[39;00m:\n\u001b[32m-> \u001b[39m\u001b[32m1119\u001b[39m     \u001b[38;5;28;43mself\u001b[39;49m\u001b[43m.\u001b[49m\u001b[43m_wait_for_tstate_lock\u001b[49m\u001b[43m(\u001b[49m\u001b[43m)\u001b[49m\n\u001b[32m   1120\u001b[39m \u001b[38;5;28;01melse\u001b[39;00m:\n\u001b[32m   1121\u001b[39m     \u001b[38;5;66;03m# the behavior of a negative timeout isn't documented, but\u001b[39;00m\n\u001b[32m   1122\u001b[39m     \u001b[38;5;66;03m# historically .join(timeout=x) for x<0 has acted as if timeout=0\u001b[39;00m\n\u001b[32m   1123\u001b[39m     \u001b[38;5;28mself\u001b[39m._wait_for_tstate_lock(timeout=\u001b[38;5;28mmax\u001b[39m(timeout, \u001b[32m0\u001b[39m))\n",
      "\u001b[36mFile \u001b[39m\u001b[32m~/miniconda3/envs/jax/lib/python3.11/threading.py:1139\u001b[39m, in \u001b[36mThread._wait_for_tstate_lock\u001b[39m\u001b[34m(self, block, timeout)\u001b[39m\n\u001b[32m   1136\u001b[39m     \u001b[38;5;28;01mreturn\u001b[39;00m\n\u001b[32m   1138\u001b[39m \u001b[38;5;28;01mtry\u001b[39;00m:\n\u001b[32m-> \u001b[39m\u001b[32m1139\u001b[39m     \u001b[38;5;28;01mif\u001b[39;00m \u001b[43mlock\u001b[49m\u001b[43m.\u001b[49m\u001b[43macquire\u001b[49m\u001b[43m(\u001b[49m\u001b[43mblock\u001b[49m\u001b[43m,\u001b[49m\u001b[43m \u001b[49m\u001b[43mtimeout\u001b[49m\u001b[43m)\u001b[49m:\n\u001b[32m   1140\u001b[39m         lock.release()\n\u001b[32m   1141\u001b[39m         \u001b[38;5;28mself\u001b[39m._stop()\n",
      "\u001b[31mKeyboardInterrupt\u001b[39m: "
     ]
    },
    {
     "name": "stderr",
     "output_type": "stream",
     "text": [
      "QObject::setParent: Cannot set parent, new parent is in a different thread\n",
      "QObject::setParent: Cannot set parent, new parent is in a different thread\n",
      "QObject::setParent: Cannot set parent, new parent is in a different thread\n",
      "QObject::setParent: Cannot set parent, new parent is in a different thread\n",
      "QObject::setParent: Cannot set parent, new parent is in a different thread\n",
      "QObject::setParent: Cannot set parent, new parent is in a different thread\n",
      "QObject::setParent: Cannot set parent, new parent is in a different thread\n",
      "QObject::setParent: Cannot set parent, new parent is in a different thread\n",
      "QObject::setParent: Cannot set parent, new parent is in a different thread\n",
      "QObject::setParent: Cannot set parent, new parent is in a different thread\n",
      "QObject::setParent: Cannot set parent, new parent is in a different thread\n",
      "QObject::setParent: Cannot set parent, new parent is in a different thread\n",
      "QObject::setParent: Cannot set parent, new parent is in a different thread\n",
      "QObject::setParent: Cannot set parent, new parent is in a different thread\n",
      "QObject::setParent: Cannot set parent, new parent is in a different thread\n",
      "QObject::setParent: Cannot set parent, new parent is in a different thread\n",
      "QObject::setParent: Cannot set parent, new parent is in a different thread\n",
      "QObject::setParent: Cannot set parent, new parent is in a different thread\n",
      "QObject::setParent: Cannot set parent, new parent is in a different thread\n",
      "QObject::setParent: Cannot set parent, new parent is in a different thread\n",
      "QObject::setParent: Cannot set parent, new parent is in a different thread\n",
      "QObject::setParent: Cannot set parent, new parent is in a different thread\n",
      "QObject::setParent: Cannot set parent, new parent is in a different thread\n",
      "QObject::setParent: Cannot set parent, new parent is in a different thread\n",
      "QObject::setParent: Cannot set parent, new parent is in a different thread\n",
      "QObject::setParent: Cannot set parent, new parent is in a different thread\n",
      "QObject::setParent: Cannot set parent, new parent is in a different thread\n",
      "QObject::setParent: Cannot set parent, new parent is in a different thread\n",
      "QObject::setParent: Cannot set parent, new parent is in a different thread\n",
      "QObject::setParent: Cannot set parent, new parent is in a different thread\n",
      "QObject::setParent: Cannot set parent, new parent is in a different thread\n",
      "QObject::setParent: Cannot set parent, new parent is in a different thread\n",
      "QObject::setParent: Cannot set parent, new parent is in a different thread\n",
      "QObject::setParent: Cannot set parent, new parent is in a different thread\n",
      "QObject::setParent: Cannot set parent, new parent is in a different thread\n",
      "QObject::setParent: Cannot set parent, new parent is in a different thread\n",
      "QObject::setParent: Cannot set parent, new parent is in a different thread\n",
      "QObject::setParent: Cannot set parent, new parent is in a different thread\n",
      "QObject::setParent: Cannot set parent, new parent is in a different thread\n",
      "QObject::setParent: Cannot set parent, new parent is in a different thread\n"
     ]
    }
   ],
   "source": [
    "# model.init_params()\n",
    "model.refine_center_of_mass()"
   ]
  },
  {
   "cell_type": "code",
   "execution_count": 5,
   "metadata": {},
   "outputs": [
    {
     "name": "stderr",
     "output_type": "stream",
     "text": [
      "Fitting cells: 100%|██████████| 13075/13075 [01:56<00:00, 112.06it/s]\n",
      "INFO:root:Convergence rate for pos_x = 10.992489284585314\n",
      "INFO:root:Convergence not reached\n",
      "Fitting cells: 100%|██████████| 13075/13075 [01:54<00:00, 114.58it/s]\n",
      "INFO:root:Convergence rate for pos_x = 0.0\n",
      "INFO:root:Convergence rate for pos_y = 0.0\n",
      "INFO:root:Convergence rate for height = 0.0\n",
      "INFO:root:Convergence rate for sigma = 0.0\n",
      "INFO:root:Convergence rate for background = 0.0\n",
      "INFO:root:Convergence reached\n"
     ]
    },
    {
     "data": {
      "text/plain": [
       "{'pos_x': array([   0.        ,    0.        ,    0.        , ..., 3995.46435476,\n",
       "        3995.46435476, 3995.46435476]),\n",
       " 'pos_y': array([ 534.        ,  679.        ,  754.        , ..., 2498.67857143,\n",
       "        2568.67857143, 2710.67857143]),\n",
       " 'height': array([1845.9471, 1819.7771, 1559.8212, ..., 2088.21  , 1869.807 ,\n",
       "        1053.3673], dtype=float32),\n",
       " 'sigma': array([12.88808482, 12.88808482, 12.88808482]),\n",
       " 'background': 0.0}"
      ]
     },
     "execution_count": 5,
     "metadata": {},
     "output_type": "execute_result"
    }
   ],
   "source": [
    "params = model.init_params()\n",
    "\n",
    "model.fit_voronoi()\n"
   ]
  },
  {
   "cell_type": "code",
   "execution_count": 7,
   "metadata": {},
   "outputs": [
    {
     "name": "stderr",
     "output_type": "stream",
     "text": [
      "INFO:root:The coordinates have been updated. Current state: 1\n"
     ]
    },
    {
     "data": {
      "text/plain": [
       "array([[   0. , 1894. ],\n",
       "       [   0. , 1929.5],\n",
       "       [   0. , 1966. ],\n",
       "       ...,\n",
       "       [ 499. , 3891. ],\n",
       "       [ 499. , 3926.5],\n",
       "       [ 499.5, 1495.5]])"
      ]
     },
     "execution_count": 7,
     "metadata": {},
     "output_type": "execute_result"
    }
   ],
   "source": [
    "model.update_coordinates()"
   ]
  },
  {
   "cell_type": "code",
   "execution_count": 17,
   "metadata": {},
   "outputs": [
    {
     "name": "stderr",
     "output_type": "stream",
     "text": [
      "0.00s - Debugger warning: It seems that frozen modules are being used, which may\n",
      "0.00s - make the debugger miss breakpoints. Please pass -Xfrozen_modules=off\n",
      "0.00s - to python to disable frozen modules.\n",
      "0.00s - Note: Debugging will proceed. Set PYDEVD_DISABLE_FILE_VALIDATION=1 to disable this validation.\n"
     ]
    }
   ],
   "source": [
    "model.view_3d() # view the 3D model using ase of Atoms object, with coordinates refined from the image"
   ]
  },
  {
   "cell_type": "code",
   "execution_count": 19,
   "metadata": {},
   "outputs": [
    {
     "name": "stderr",
     "output_type": "stream",
     "text": [
      "INFO:root:Selected 1758 atoms out of 1759 atoms.\n"
     ]
    },
    {
     "data": {
      "text/plain": [
       "array([False,  True,  True, ...,  True,  True,  True])"
      ]
     },
     "execution_count": 19,
     "metadata": {},
     "output_type": "execute_result"
    }
   ],
   "source": [
    "model.select_atoms() # select the region where has atoms"
   ]
  },
  {
   "cell_type": "code",
   "execution_count": 16,
   "metadata": {},
   "outputs": [],
   "source": [
    "model.plot_coordinates(10) # plot the coordinates of the selected region with element labels"
   ]
  },
  {
   "cell_type": "code",
   "execution_count": 5,
   "metadata": {},
   "outputs": [
    {
     "name": "stderr",
     "output_type": "stream",
     "text": [
      "INFO:root:Assigned label 0 with 0 pixels to the region map.\n"
     ]
    },
    {
     "data": {
      "text/plain": [
       "Region 0: init"
      ]
     },
     "execution_count": 5,
     "metadata": {},
     "output_type": "execute_result"
    }
   ],
   "source": [
    "model.draw_region()"
   ]
  },
  {
   "cell_type": "code",
   "execution_count": 7,
   "metadata": {},
   "outputs": [],
   "source": [
    "model.regions.plot_region_map(model.image)"
   ]
  },
  {
   "cell_type": "code",
   "execution_count": null,
   "metadata": {},
   "outputs": [],
   "source": [
    "import os\n",
    "!export CUDA_VISIBLE_DEVICES=0\n",
    "os.environ['JAX_PLATFORMS'] = 'gpu'\n",
    "model.fit_background = False\n",
    "params = model.init_params(atom_size=0.7)\n",
    "model.fit_random_batch(params, batch_size=4000, maxiter=50, tol=5e-3, plot=False, step_size=0.01,verbose=False,num_epoch=5) # set the maxiter and tol and num_epoch to be larger for better fitting"
   ]
  },
  {
   "cell_type": "code",
   "execution_count": 6,
   "metadata": {},
   "outputs": [
    {
     "name": "stderr",
     "output_type": "stream",
     "text": [
      "INFO:root:The coordinates have been updated. Current state: 1\n",
      "INFO:root:Updated region 0 coordinates for crystal analyzer.\n"
     ]
    }
   ],
   "source": [
    "model.update_coordinates()\n",
    "model.update_region_analyzers()"
   ]
  },
  {
   "cell_type": "code",
   "execution_count": 13,
   "metadata": {},
   "outputs": [],
   "source": [
    "model.plot_fitting() # compare the fitting result with the original image"
   ]
  },
  {
   "cell_type": "code",
   "execution_count": 30,
   "metadata": {},
   "outputs": [],
   "source": [
    "model.plot_scs(per_element=True,s=10) # plot the scattering cross section of the elements in the selected region, show each element separately"
   ]
  },
  {
   "cell_type": "code",
   "execution_count": 14,
   "metadata": {},
   "outputs": [],
   "source": [
    "model.plot_scs_histogram() # plot the histogram of the scattering cross section of the selected region"
   ]
  },
  {
   "cell_type": "code",
   "execution_count": 41,
   "metadata": {},
   "outputs": [
    {
     "name": "stderr",
     "output_type": "stream",
     "text": [
      "Integrating: 100%|██████████| 1758/1758 [00:04<00:00, 388.14it/s]                 \n",
      "                                                                                     \r"
     ]
    },
    {
     "data": {
      "text/plain": [
       "(array([ 8174.29485751, 10783.27550203,  7876.22458842, ...,\n",
       "         2239.57388934,  7408.65695896, 10485.87122523]),\n",
       " <Signal2D, title: , dimensions: (|1072, 2972)>,\n",
       " <Signal2D, title: , dimensions: (|1072, 2972)>)"
      ]
     },
     "execution_count": 41,
     "metadata": {},
     "output_type": "execute_result"
    }
   ],
   "source": [
    "\n",
    "model.voronoi_integration(plot=True) # integrate the scattering cross section of the selected region using voronoi tessellation"
   ]
  },
  {
   "cell_type": "code",
   "execution_count": 20,
   "metadata": {},
   "outputs": [
    {
     "name": "stderr",
     "output_type": "stream",
     "text": [
      "Integrating: 100%|██████████| 1674/1674 [00:02<00:00, 700.10it/s]                 \n",
      "                                                                                      \r"
     ]
    },
    {
     "ename": "AssertionError",
     "evalue": "Please run the voronoi analysis first",
     "output_type": "error",
     "traceback": [
      "\u001b[31m---------------------------------------------------------------------------\u001b[39m",
      "\u001b[31mAssertionError\u001b[39m                            Traceback (most recent call last)",
      "\u001b[36mCell\u001b[39m\u001b[36m \u001b[39m\u001b[32mIn[20]\u001b[39m\u001b[32m, line 1\u001b[39m\n\u001b[32m----> \u001b[39m\u001b[32m1\u001b[39m \u001b[43mmodel\u001b[49m\u001b[43m.\u001b[49m\u001b[43mplot_scs_voronoi\u001b[49m\u001b[43m(\u001b[49m\u001b[43mper_element\u001b[49m\u001b[43m=\u001b[49m\u001b[38;5;28;43;01mTrue\u001b[39;49;00m\u001b[43m,\u001b[49m\u001b[43ms\u001b[49m\u001b[43m=\u001b[49m\u001b[32;43m20\u001b[39;49m\u001b[43m)\u001b[49m \u001b[38;5;66;03m# plot the scattering cross section of the selected region using voronoi tessellation\u001b[39;00m\n",
      "\u001b[36mFile \u001b[39m\u001b[32m~/OneDrive/code/qem/qem/image_fitting.py:1821\u001b[39m, in \u001b[36mImageModelFitting.plot_scs_voronoi\u001b[39m\u001b[34m(self, layout, s, per_element, save, has_units, half, figsize)\u001b[39m\n\u001b[32m   1820\u001b[39m \u001b[38;5;28;01mdef\u001b[39;00m\u001b[38;5;250m \u001b[39m\u001b[34mplot_scs_voronoi\u001b[39m(\u001b[38;5;28mself\u001b[39m, layout=\u001b[33m\"\u001b[39m\u001b[33mhorizontal\u001b[39m\u001b[33m\"\u001b[39m, s=\u001b[32m1\u001b[39m, per_element=\u001b[38;5;28;01mFalse\u001b[39;00m, save=\u001b[38;5;28;01mFalse\u001b[39;00m, has_units=\u001b[38;5;28;01mTrue\u001b[39;00m, half: \u001b[38;5;28mstr\u001b[39m = \u001b[38;5;28;01mNone\u001b[39;00m, figsize=(\u001b[32m10\u001b[39m, \u001b[32m5\u001b[39m)):\n\u001b[32m-> \u001b[39m\u001b[32m1821\u001b[39m     \u001b[38;5;28;01massert\u001b[39;00m \u001b[38;5;28mself\u001b[39m.voronoi_volume \u001b[38;5;129;01mis\u001b[39;00m \u001b[38;5;129;01mnot\u001b[39;00m \u001b[38;5;28;01mNone\u001b[39;00m, \u001b[33m\"\u001b[39m\u001b[33mPlease run the voronoi analysis first\u001b[39m\u001b[33m\"\u001b[39m\n\u001b[32m   1822\u001b[39m     \u001b[38;5;28;01mif\u001b[39;00m per_element:\n\u001b[32m   1823\u001b[39m         row, col = \u001b[32m1\u001b[39m, \u001b[32m2\u001b[39m\n",
      "\u001b[31mAssertionError\u001b[39m: Please run the voronoi analysis first"
     ]
    }
   ],
   "source": [
    "model.plot_scs_voronoi(per_element=True,s=20) # plot the scattering cross section of the selected region using voronoi tessellation"
   ]
  },
  {
   "cell_type": "code",
   "execution_count": 9,
   "metadata": {},
   "outputs": [
    {
     "name": "stderr",
     "output_type": "stream",
     "text": [
      "/home/zzhang/miniconda3/envs/jax/lib/python3.11/site-packages/matscipy/atomic_strain.py:107: FutureWarning: `rcond` parameter will change to the default of machine precision times ``max(M, N)`` where M and N are the input matrix dimensions.\n",
      "To use the future default and silence this warning we advise to pass `rcond=None`, to keep using the old, explicitly pass `rcond=-1`.\n",
      "  x, residuals, rank, s = np.linalg.lstsq(dr_old[mask], dr_now[mask])\n"
     ]
    }
   ],
   "source": [
    "model.regions[0].analyzer.plot_strain()"
   ]
  },
  {
   "cell_type": "code",
   "execution_count": 18,
   "metadata": {},
   "outputs": [],
   "source": [
    "model.regions[0].analyzer.plot_polarization(a_element='Sr', b_element='Ti',cutoff_radius=5.0,exclude_border=True,border_pixel=\n",
    "100,vector_scale=50.0)"
   ]
  },
  {
   "cell_type": "markdown",
   "metadata": {},
   "source": []
  },
  {
   "cell_type": "code",
   "execution_count": 14,
   "metadata": {},
   "outputs": [],
   "source": [
    "model.regions[0].analyzer.plot_oxygen_tilt(a_type=0, o_type=2)"
   ]
  },
  {
   "cell_type": "code",
   "execution_count": null,
   "metadata": {},
   "outputs": [],
   "source": [
    "# reload qem.crystal_analyzer\n",
    "# import qem.crystal_analyzer\n",
    "# import importlib\n",
    "# importlib.reload(qem.crystal_analyzer)\n",
    "\n",
    "model.regions[0].analyzer.plot_lattice_parameter_unitcell(boundary_thresh=10,line_plot_direction='b',line_plot_averaging_window=3,line_plot_style='error_bars')"
   ]
  },
  {
   "cell_type": "code",
   "execution_count": 21,
   "metadata": {},
   "outputs": [
    {
     "ename": "KeyboardInterrupt",
     "evalue": "",
     "output_type": "error",
     "traceback": [
      "\u001b[31m---------------------------------------------------------------------------\u001b[39m",
      "\u001b[31mKeyboardInterrupt\u001b[39m                         Traceback (most recent call last)",
      "\u001b[36mCell\u001b[39m\u001b[36m \u001b[39m\u001b[32mIn[21]\u001b[39m\u001b[32m, line 1\u001b[39m\n\u001b[32m----> \u001b[39m\u001b[32m1\u001b[39m \u001b[43mmodel\u001b[49m\u001b[43m.\u001b[49m\u001b[43mregions\u001b[49m\u001b[43m[\u001b[49m\u001b[32;43m0\u001b[39;49m\u001b[43m]\u001b[49m\u001b[43m.\u001b[49m\u001b[43manalyzer\u001b[49m\u001b[43m.\u001b[49m\u001b[43mplot_lattice_parameter_nearest\u001b[49m\u001b[43m(\u001b[49m\u001b[43mboundary_thresh\u001b[49m\u001b[43m=\u001b[49m\u001b[32;43m10\u001b[39;49m\u001b[43m,\u001b[49m\u001b[43m \u001b[49m\u001b[43mdist_min_a\u001b[49m\u001b[43m=\u001b[49m\u001b[32;43m2\u001b[39;49m\u001b[43m,\u001b[49m\u001b[43mdist_min_b\u001b[49m\u001b[43m=\u001b[49m\u001b[32;43m3\u001b[39;49m\u001b[43m,\u001b[49m\u001b[43mdist_max_a\u001b[49m\u001b[43m=\u001b[49m\u001b[32;43m3\u001b[39;49m\u001b[43m,\u001b[49m\u001b[43mdist_max_b\u001b[49m\u001b[43m=\u001b[49m\u001b[32;43m4.2\u001b[39;49m\u001b[43m,\u001b[49m\u001b[43mangle_thresh\u001b[49m\u001b[43m=\u001b[49m\u001b[32;43m0.99\u001b[39;49m\u001b[43m)\u001b[49m\n",
      "\u001b[36mFile \u001b[39m\u001b[32m~/OneDrive/code/qem/qem/crystal_analyzer.py:1146\u001b[39m, in \u001b[36mCrystalAnalyzer.plot_lattice_parameter_nearest\u001b[39m\u001b[34m(self, units, show_lattice, angle_thresh, dist_min_a, dist_min_b, dist_max_a, dist_max_b, boundary_thresh)\u001b[39m\n\u001b[32m   1143\u001b[39m valid_b = (dists > dist_min_b) & (dists < dist_max_b)\n\u001b[32m   1145\u001b[39m \u001b[38;5;66;03m# For a direction\u001b[39;00m\n\u001b[32m-> \u001b[39m\u001b[32m1146\u001b[39m cos_a = np.abs((rel @ a_hat) / (\u001b[43mnp\u001b[49m\u001b[43m.\u001b[49m\u001b[43mlinalg\u001b[49m\u001b[43m.\u001b[49m\u001b[43mnorm\u001b[49m\u001b[43m(\u001b[49m\u001b[43mrel\u001b[49m\u001b[43m,\u001b[49m\u001b[43m \u001b[49m\u001b[43maxis\u001b[49m\u001b[43m=\u001b[49m\u001b[32;43m1\u001b[39;49m\u001b[43m)\u001b[49m + \u001b[32m1e-12\u001b[39m))\n\u001b[32m   1147\u001b[39m mask_a = valid_a & (cos_a > angle_thresh)\n\u001b[32m   1148\u001b[39m \u001b[38;5;28;01mfor\u001b[39;00m j \u001b[38;5;129;01min\u001b[39;00m np.where(mask_a)[\u001b[32m0\u001b[39m]:\n",
      "\u001b[36mFile \u001b[39m\u001b[32m~/miniconda3/envs/jax/lib/python3.11/site-packages/numpy/linalg/linalg.py:2379\u001b[39m, in \u001b[36m_norm_dispatcher\u001b[39m\u001b[34m(x, ord, axis, keepdims)\u001b[39m\n\u001b[32m   2375\u001b[39m     result = op(svd(y, compute_uv=\u001b[38;5;28;01mFalse\u001b[39;00m), axis=-\u001b[32m1\u001b[39m)\n\u001b[32m   2376\u001b[39m     \u001b[38;5;28;01mreturn\u001b[39;00m result\n\u001b[32m-> \u001b[39m\u001b[32m2379\u001b[39m \u001b[38;5;28;01mdef\u001b[39;00m\u001b[38;5;250m \u001b[39m\u001b[34m_norm_dispatcher\u001b[39m(x, \u001b[38;5;28mord\u001b[39m=\u001b[38;5;28;01mNone\u001b[39;00m, axis=\u001b[38;5;28;01mNone\u001b[39;00m, keepdims=\u001b[38;5;28;01mNone\u001b[39;00m):\n\u001b[32m   2380\u001b[39m     \u001b[38;5;28;01mreturn\u001b[39;00m (x,)\n\u001b[32m   2383\u001b[39m \u001b[38;5;129m@array_function_dispatch\u001b[39m(_norm_dispatcher)\n\u001b[32m   2384\u001b[39m \u001b[38;5;28;01mdef\u001b[39;00m\u001b[38;5;250m \u001b[39m\u001b[34mnorm\u001b[39m(x, \u001b[38;5;28mord\u001b[39m=\u001b[38;5;28;01mNone\u001b[39;00m, axis=\u001b[38;5;28;01mNone\u001b[39;00m, keepdims=\u001b[38;5;28;01mFalse\u001b[39;00m):\n",
      "\u001b[31mKeyboardInterrupt\u001b[39m: "
     ]
    }
   ],
   "source": [
    "\n",
    "model.regions[0].analyzer.plot_lattice_parameter_nearest(boundary_thresh=10, dist_min_a=2,dist_min_b=3,dist_max_a=3,dist_max_b=4.2,angle_thresh=0.99)"
   ]
  },
  {
   "cell_type": "code",
   "execution_count": 16,
   "metadata": {},
   "outputs": [],
   "source": [
    "model.regions[0].analyzer.plot_displacement(mode='local', cut_off = 5.0)"
   ]
  },
  {
   "cell_type": "code",
   "execution_count": 18,
   "metadata": {},
   "outputs": [],
   "source": [
    "model.regions[0].analyzer.plot_oxygen_tilt(a_type=0, o_type=2, cutoff_radius=5.0)"
   ]
  }
 ],
 "metadata": {
  "kernelspec": {
   "display_name": "jax",
   "language": "python",
   "name": "python3"
  },
  "language_info": {
   "codemirror_mode": {
    "name": "ipython",
    "version": 3
   },
   "file_extension": ".py",
   "mimetype": "text/x-python",
   "name": "python",
   "nbconvert_exporter": "python",
   "pygments_lexer": "ipython3",
   "version": "3.11.12"
  }
 },
 "nbformat": 4,
 "nbformat_minor": 2
}
